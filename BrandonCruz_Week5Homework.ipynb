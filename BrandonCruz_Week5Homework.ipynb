{
 "cells": [
  {
   "cell_type": "markdown",
   "id": "299b3559",
   "metadata": {},
   "source": [
    "1. Pandas stands for either Panel Data or Python Data Analysis. \n",
    "2. The two collections used in Pandas are Series and DataFrames. \n",
    "3. Pandas can do a series of things for us, such as: \n",
    "- Data visualization\n",
    "- Data cleansing\n",
    "- Data filling\n",
    "- Loading data\n",
    "4. To peranlty sort a DataFrame, one would use `inplace = True` within the `df.sort()` method. \n",
    "5. A CSV is a file that contains data. They only contain plain text and therefore it's easy for Pandas to read.\n",
    "6. When cleaning data we do not like `Null` values. "
   ]
  },
  {
   "cell_type": "code",
   "execution_count": 34,
   "id": "6107521f",
   "metadata": {},
   "outputs": [
    {
     "name": "stdout",
     "output_type": "stream",
     "text": [
      "[[[ 0  1]\n",
      "  [ 2  3]\n",
      "  [ 4  5]]\n",
      "\n",
      " [[ 6  7]\n",
      "  [ 8  9]\n",
      "  [10 11]]]\n"
     ]
    }
   ],
   "source": [
    "import numpy as np\n",
    "import pandas as pd\n",
    "\n",
    "# Questino 7\n",
    "\n",
    "array_q7 = np.arange(12).reshape((2,3,2))\n",
    "print(array_q7)"
   ]
  },
  {
   "cell_type": "code",
   "execution_count": null,
   "id": "6e981d9e",
   "metadata": {},
   "outputs": [
    {
     "name": "stdout",
     "output_type": "stream",
     "text": [
      "[ 0.  4.  8. 12. 16. 20.]\n",
      "[ 0.  4.  8. 12. 16. 20.]\n"
     ]
    }
   ],
   "source": [
    "# Question 8\n",
    "\n",
    "new_array = np.linspace(0,20,num= 6)\n",
    "print(new_array)\n",
    "\n",
    "# Question 9 \n",
    "\n",
    "import copy\n",
    "copy_new_array = copy.deepcopy(new_array)\n",
    "print(copy_new_array)"
   ]
  },
  {
   "cell_type": "code",
   "execution_count": 22,
   "id": "0ef77f65",
   "metadata": {},
   "outputs": [
    {
     "name": "stdout",
     "output_type": "stream",
     "text": [
      "[[25 16]\n",
      " [11  2]\n",
      " [13  4]\n",
      " [ 7 81]\n",
      " [ 5  6]\n",
      " [11 12]]\n",
      "[[16 25]\n",
      " [ 2 11]\n",
      " [ 4 13]\n",
      " [ 7 81]\n",
      " [ 5  6]\n",
      " [11 12]]\n"
     ]
    }
   ],
   "source": [
    "# Question 10\n",
    "\n",
    "array1 = ([[25,16]])\n",
    "array2 = ([[11,2], [13,4]])\n",
    "array3 = ([[7,81], [5,6], [11, 12]])\n",
    "\n",
    "newArray = np.concatenate((array1, array2, array3))\n",
    "print(newArray)\n",
    "\n",
    "# Question 11\n",
    "\n",
    "sortedArray = np.sort(newArray)\n",
    "print(sortedArray)"
   ]
  },
  {
   "cell_type": "code",
   "execution_count": 113,
   "id": "42cf4619",
   "metadata": {},
   "outputs": [
    {
     "name": "stdout",
     "output_type": "stream",
     "text": [
      "1st group... [[25, 16]]\n",
      "2nd gorup... [[11, 2], [13, 4]]\n",
      "3rd group... [[7, 81], [5, 6]]\n",
      "Last bunch... [[11, 12]]\n"
     ]
    }
   ],
   "source": [
    "# Question 12\n",
    "\n",
    "variable1 = array1\n",
    "variable2 = array2\n",
    "variable3 = array3[:2]\n",
    "variable4 = array3[2:]\n",
    "\n",
    "print(\"1st group...\", variable1)\n",
    "print(\"2nd gorup...\", variable2)\n",
    "print(\"3rd group...\", variable3)\n",
    "print(\"Last bunch...\", variable4)"
   ]
  },
  {
   "cell_type": "code",
   "execution_count": 41,
   "id": "59308170",
   "metadata": {},
   "outputs": [
    {
     "name": "stdout",
     "output_type": "stream",
     "text": [
      "[ 0  1  2  3  4  5  6  7 10 11 12 13 14 15 16 17 20 21 22 23 24 25 26 27]\n"
     ]
    }
   ],
   "source": [
    "# Question 13 \n",
    "\n",
    "one = ([10, 11, 12, 13, 14, 15, 16, 17])\n",
    "two = ([20, 21, 22, 23, 24, 25, 26, 27])\n",
    "three = ([ 0, 1, 2, 3, 4, 5, 6, 7])\n",
    "\n",
    "comboArray = np.concatenate((one, two, three))\n",
    "comboArray = np.sort(comboArray)\n",
    "print(comboArray)\n"
   ]
  },
  {
   "cell_type": "code",
   "execution_count": 64,
   "id": "383ff262",
   "metadata": {},
   "outputs": [
    {
     "name": "stdout",
     "output_type": "stream",
     "text": [
      "1\n",
      "[ 2  3  4  5  6  7 10 11 12 13 14 15 16 17 20 21 22 23 24 25 26 27]\n",
      "[ 4  5  6  7 10 11 12 13 14 15]\n",
      "[22 23 24 25 26 27]\n",
      "[ 0  1  2  3  4  5  6  7 10 11 12 13]\n",
      "[20 22 24 26]\n",
      "[27 22 15 10  3]\n"
     ]
    }
   ],
   "source": [
    "# Question 14\n",
    "\n",
    "print(comboArray[1])\n",
    "print(comboArray[2:])\n",
    "print(comboArray[4:14])\n",
    "print(comboArray[-6:])\n",
    "print(comboArray[:-12])\n",
    "print(comboArray[16:28:2])\n",
    "print(comboArray[::-1][::5])"
   ]
  },
  {
   "cell_type": "code",
   "execution_count": 86,
   "id": "5939317d",
   "metadata": {},
   "outputs": [
    {
     "data": {
      "application/vnd.microsoft.datawrangler.viewer.v0+json": {
       "columns": [
        {
         "name": "index",
         "rawType": "int64",
         "type": "integer"
        },
        {
         "name": "Ingredients",
         "rawType": "object",
         "type": "string"
        },
        {
         "name": "Quantity",
         "rawType": "int64",
         "type": "integer"
        },
        {
         "name": "Units",
         "rawType": "object",
         "type": "string"
        }
       ],
       "ref": "2764acaf-a485-4d2b-bcaf-b316e3ad5b05",
       "rows": [
        [
         "0",
         "Flour",
         "4",
         "cups"
        ],
        [
         "1",
         "Milk",
         "1",
         "cup"
        ],
        [
         "2",
         "Eggs",
         "2",
         "large"
        ],
        [
         "3",
         "Spam",
         "1",
         "can"
        ]
       ],
       "shape": {
        "columns": 3,
        "rows": 4
       }
      },
      "text/html": [
       "<div>\n",
       "<style scoped>\n",
       "    .dataframe tbody tr th:only-of-type {\n",
       "        vertical-align: middle;\n",
       "    }\n",
       "\n",
       "    .dataframe tbody tr th {\n",
       "        vertical-align: top;\n",
       "    }\n",
       "\n",
       "    .dataframe thead th {\n",
       "        text-align: right;\n",
       "    }\n",
       "</style>\n",
       "<table border=\"1\" class=\"dataframe\">\n",
       "  <thead>\n",
       "    <tr style=\"text-align: right;\">\n",
       "      <th></th>\n",
       "      <th>Ingredients</th>\n",
       "      <th>Quantity</th>\n",
       "      <th>Units</th>\n",
       "    </tr>\n",
       "  </thead>\n",
       "  <tbody>\n",
       "    <tr>\n",
       "      <th>0</th>\n",
       "      <td>Flour</td>\n",
       "      <td>4</td>\n",
       "      <td>cups</td>\n",
       "    </tr>\n",
       "    <tr>\n",
       "      <th>1</th>\n",
       "      <td>Milk</td>\n",
       "      <td>1</td>\n",
       "      <td>cup</td>\n",
       "    </tr>\n",
       "    <tr>\n",
       "      <th>2</th>\n",
       "      <td>Eggs</td>\n",
       "      <td>2</td>\n",
       "      <td>large</td>\n",
       "    </tr>\n",
       "    <tr>\n",
       "      <th>3</th>\n",
       "      <td>Spam</td>\n",
       "      <td>1</td>\n",
       "      <td>can</td>\n",
       "    </tr>\n",
       "  </tbody>\n",
       "</table>\n",
       "</div>"
      ],
      "text/plain": [
       "  Ingredients  Quantity  Units\n",
       "0       Flour         4   cups\n",
       "1        Milk         1    cup\n",
       "2        Eggs         2  large\n",
       "3        Spam         1    can"
      ]
     },
     "execution_count": 86,
     "metadata": {},
     "output_type": "execute_result"
    }
   ],
   "source": [
    "# Question 15\n",
    "\n",
    "ingredients = pd.Series([\"Flour\", \"Milk\", \"Eggs\", \"Spam\"], name= 'Ingredients')\n",
    "quantity = pd.Series([4,1,2,1], name= 'Quantity')\n",
    "units = pd.Series([\"cups\", \"cup\", \"large\", \"can\"], name= 'Units')\n",
    "\n",
    "df0 = pd.concat([ingredients, quantity, units], axis=1)\n",
    "df0"
   ]
  },
  {
   "cell_type": "code",
   "execution_count": 80,
   "id": "d5c5af18",
   "metadata": {},
   "outputs": [
    {
     "name": "stdout",
     "output_type": "stream",
     "text": [
      "      Name  Height Qualification  address  Age        Pets           sport\n",
      "0      Jai     5.1           Msc    Delhi   21         Dog           Darts\n",
      "1  janusha     6.2            MA     Doha   23       Bunny      Basketball\n",
      "2   Gaurav     5.1           Msc  Chennai   24  Chinchilla  PaddleBoarding\n",
      "3     Anuj     5.2           Msc   Dakhar   21      Parrot         Cricket\n"
     ]
    }
   ],
   "source": [
    "# Question 16\n",
    "\n",
    "studentData= {'Name': ['Jai', 'janusha', 'Gaurav', 'Anuj'],\n",
    "        'Height': [5.1, 6.2, 5.1, 5.2],\n",
    "        'Qualification': ['Msc', 'MA', 'Msc', 'Msc'],\n",
    "        'address': ['Delhi', 'Doha', 'Chennai', 'Dakhar'],\n",
    "        'Age': [21, 23, 24, 21],\n",
    "        'Pets': ['Dog', 'Bunny', 'Chinchilla', 'Parrot'],\n",
    "        'sport': ['Darts', 'Basketball', 'PaddleBoarding', 'Cricket']\n",
    "}\n",
    "\n",
    "df1 = pd.DataFrame(studentData)\n",
    "print(df1)"
   ]
  },
  {
   "cell_type": "code",
   "execution_count": 81,
   "id": "ce4d8498",
   "metadata": {},
   "outputs": [
    {
     "data": {
      "application/vnd.microsoft.datawrangler.viewer.v0+json": {
       "columns": [
        {
         "name": "index",
         "rawType": "int64",
         "type": "integer"
        },
        {
         "name": "Name",
         "rawType": "object",
         "type": "string"
        },
        {
         "name": "Height",
         "rawType": "float64",
         "type": "float"
        },
        {
         "name": "Qualification",
         "rawType": "object",
         "type": "string"
        },
        {
         "name": "address",
         "rawType": "object",
         "type": "string"
        },
        {
         "name": "Age",
         "rawType": "int64",
         "type": "integer"
        },
        {
         "name": "Pets",
         "rawType": "object",
         "type": "string"
        },
        {
         "name": "sport",
         "rawType": "object",
         "type": "string"
        },
        {
         "name": "Deserts",
         "rawType": "object",
         "type": "string"
        }
       ],
       "ref": "4a11f52a-e6e2-4c3b-981d-3818614dca32",
       "rows": [
        [
         "0",
         "Jai",
         "5.1",
         "Msc",
         "Delhi",
         "21",
         "Dog",
         "Darts",
         "ice crea"
        ],
        [
         "1",
         "janusha",
         "6.2",
         "MA",
         "Doha",
         "23",
         "Bunny",
         "Basketball",
         "Cashew Fudge"
        ],
        [
         "2",
         "Gaurav",
         "5.1",
         "Msc",
         "Chennai",
         "24",
         "Chinchilla",
         "PaddleBoarding",
         "waffels"
        ],
        [
         "3",
         "Anuj",
         "5.2",
         "Msc",
         "Dakhar",
         "21",
         "Parrot",
         "Cricket",
         "Carrot Halwa"
        ]
       ],
       "shape": {
        "columns": 8,
        "rows": 4
       }
      },
      "text/html": [
       "<div>\n",
       "<style scoped>\n",
       "    .dataframe tbody tr th:only-of-type {\n",
       "        vertical-align: middle;\n",
       "    }\n",
       "\n",
       "    .dataframe tbody tr th {\n",
       "        vertical-align: top;\n",
       "    }\n",
       "\n",
       "    .dataframe thead th {\n",
       "        text-align: right;\n",
       "    }\n",
       "</style>\n",
       "<table border=\"1\" class=\"dataframe\">\n",
       "  <thead>\n",
       "    <tr style=\"text-align: right;\">\n",
       "      <th></th>\n",
       "      <th>Name</th>\n",
       "      <th>Height</th>\n",
       "      <th>Qualification</th>\n",
       "      <th>address</th>\n",
       "      <th>Age</th>\n",
       "      <th>Pets</th>\n",
       "      <th>sport</th>\n",
       "      <th>Deserts</th>\n",
       "    </tr>\n",
       "  </thead>\n",
       "  <tbody>\n",
       "    <tr>\n",
       "      <th>0</th>\n",
       "      <td>Jai</td>\n",
       "      <td>5.1</td>\n",
       "      <td>Msc</td>\n",
       "      <td>Delhi</td>\n",
       "      <td>21</td>\n",
       "      <td>Dog</td>\n",
       "      <td>Darts</td>\n",
       "      <td>ice crea</td>\n",
       "    </tr>\n",
       "    <tr>\n",
       "      <th>1</th>\n",
       "      <td>janusha</td>\n",
       "      <td>6.2</td>\n",
       "      <td>MA</td>\n",
       "      <td>Doha</td>\n",
       "      <td>23</td>\n",
       "      <td>Bunny</td>\n",
       "      <td>Basketball</td>\n",
       "      <td>Cashew Fudge</td>\n",
       "    </tr>\n",
       "    <tr>\n",
       "      <th>2</th>\n",
       "      <td>Gaurav</td>\n",
       "      <td>5.1</td>\n",
       "      <td>Msc</td>\n",
       "      <td>Chennai</td>\n",
       "      <td>24</td>\n",
       "      <td>Chinchilla</td>\n",
       "      <td>PaddleBoarding</td>\n",
       "      <td>waffels</td>\n",
       "    </tr>\n",
       "    <tr>\n",
       "      <th>3</th>\n",
       "      <td>Anuj</td>\n",
       "      <td>5.2</td>\n",
       "      <td>Msc</td>\n",
       "      <td>Dakhar</td>\n",
       "      <td>21</td>\n",
       "      <td>Parrot</td>\n",
       "      <td>Cricket</td>\n",
       "      <td>Carrot Halwa</td>\n",
       "    </tr>\n",
       "  </tbody>\n",
       "</table>\n",
       "</div>"
      ],
      "text/plain": [
       "      Name  Height Qualification  address  Age        Pets           sport  \\\n",
       "0      Jai     5.1           Msc    Delhi   21         Dog           Darts   \n",
       "1  janusha     6.2            MA     Doha   23       Bunny      Basketball   \n",
       "2   Gaurav     5.1           Msc  Chennai   24  Chinchilla  PaddleBoarding   \n",
       "3     Anuj     5.2           Msc   Dakhar   21      Parrot         Cricket   \n",
       "\n",
       "        Deserts  \n",
       "0      ice crea  \n",
       "1  Cashew Fudge  \n",
       "2       waffels  \n",
       "3  Carrot Halwa  "
      ]
     },
     "execution_count": 81,
     "metadata": {},
     "output_type": "execute_result"
    }
   ],
   "source": [
    "# Question 17\n",
    "\n",
    "deserts = [\"ice crea\", \"Cashew Fudge\", \"waffels\", \"Carrot Halwa\"]\n",
    "df1['Deserts'] = deserts\n",
    "df1"
   ]
  },
  {
   "cell_type": "code",
   "execution_count": 85,
   "id": "17555ef0",
   "metadata": {},
   "outputs": [
    {
     "data": {
      "application/vnd.microsoft.datawrangler.viewer.v0+json": {
       "columns": [
        {
         "name": "index",
         "rawType": "int64",
         "type": "integer"
        },
        {
         "name": "Name",
         "rawType": "object",
         "type": "string"
        },
        {
         "name": "Height",
         "rawType": "float64",
         "type": "float"
        },
        {
         "name": "Qualification",
         "rawType": "object",
         "type": "string"
        },
        {
         "name": "address",
         "rawType": "object",
         "type": "string"
        },
        {
         "name": "Age",
         "rawType": "int64",
         "type": "integer"
        },
        {
         "name": "Pets",
         "rawType": "object",
         "type": "string"
        },
        {
         "name": "sport",
         "rawType": "object",
         "type": "string"
        },
        {
         "name": "Deserts",
         "rawType": "object",
         "type": "string"
        }
       ],
       "ref": "45b7e126-d81b-485d-8b62-a4d2b68a4363",
       "rows": [
        [
         "3",
         "Anuj",
         "5.2",
         "Msc",
         "Dakhar",
         "21",
         "Parrot",
         "Cricket",
         "Carrot Halwa"
        ],
        [
         "2",
         "Gaurav",
         "5.1",
         "Msc",
         "Chennai",
         "24",
         "Chinchilla",
         "PaddleBoarding",
         "waffels"
        ],
        [
         "0",
         "Jai",
         "5.1",
         "Msc",
         "Delhi",
         "21",
         "Dog",
         "Darts",
         "ice crea"
        ],
        [
         "1",
         "janusha",
         "6.2",
         "MA",
         "Doha",
         "23",
         "Bunny",
         "Basketball",
         "Cashew Fudge"
        ]
       ],
       "shape": {
        "columns": 8,
        "rows": 4
       }
      },
      "text/html": [
       "<div>\n",
       "<style scoped>\n",
       "    .dataframe tbody tr th:only-of-type {\n",
       "        vertical-align: middle;\n",
       "    }\n",
       "\n",
       "    .dataframe tbody tr th {\n",
       "        vertical-align: top;\n",
       "    }\n",
       "\n",
       "    .dataframe thead th {\n",
       "        text-align: right;\n",
       "    }\n",
       "</style>\n",
       "<table border=\"1\" class=\"dataframe\">\n",
       "  <thead>\n",
       "    <tr style=\"text-align: right;\">\n",
       "      <th></th>\n",
       "      <th>Name</th>\n",
       "      <th>Height</th>\n",
       "      <th>Qualification</th>\n",
       "      <th>address</th>\n",
       "      <th>Age</th>\n",
       "      <th>Pets</th>\n",
       "      <th>sport</th>\n",
       "      <th>Deserts</th>\n",
       "    </tr>\n",
       "  </thead>\n",
       "  <tbody>\n",
       "    <tr>\n",
       "      <th>3</th>\n",
       "      <td>Anuj</td>\n",
       "      <td>5.2</td>\n",
       "      <td>Msc</td>\n",
       "      <td>Dakhar</td>\n",
       "      <td>21</td>\n",
       "      <td>Parrot</td>\n",
       "      <td>Cricket</td>\n",
       "      <td>Carrot Halwa</td>\n",
       "    </tr>\n",
       "    <tr>\n",
       "      <th>2</th>\n",
       "      <td>Gaurav</td>\n",
       "      <td>5.1</td>\n",
       "      <td>Msc</td>\n",
       "      <td>Chennai</td>\n",
       "      <td>24</td>\n",
       "      <td>Chinchilla</td>\n",
       "      <td>PaddleBoarding</td>\n",
       "      <td>waffels</td>\n",
       "    </tr>\n",
       "    <tr>\n",
       "      <th>0</th>\n",
       "      <td>Jai</td>\n",
       "      <td>5.1</td>\n",
       "      <td>Msc</td>\n",
       "      <td>Delhi</td>\n",
       "      <td>21</td>\n",
       "      <td>Dog</td>\n",
       "      <td>Darts</td>\n",
       "      <td>ice crea</td>\n",
       "    </tr>\n",
       "    <tr>\n",
       "      <th>1</th>\n",
       "      <td>janusha</td>\n",
       "      <td>6.2</td>\n",
       "      <td>MA</td>\n",
       "      <td>Doha</td>\n",
       "      <td>23</td>\n",
       "      <td>Bunny</td>\n",
       "      <td>Basketball</td>\n",
       "      <td>Cashew Fudge</td>\n",
       "    </tr>\n",
       "  </tbody>\n",
       "</table>\n",
       "</div>"
      ],
      "text/plain": [
       "      Name  Height Qualification  address  Age        Pets           sport  \\\n",
       "3     Anuj     5.2           Msc   Dakhar   21      Parrot         Cricket   \n",
       "2   Gaurav     5.1           Msc  Chennai   24  Chinchilla  PaddleBoarding   \n",
       "0      Jai     5.1           Msc    Delhi   21         Dog           Darts   \n",
       "1  janusha     6.2            MA     Doha   23       Bunny      Basketball   \n",
       "\n",
       "        Deserts  \n",
       "3  Carrot Halwa  \n",
       "2       waffels  \n",
       "0      ice crea  \n",
       "1  Cashew Fudge  "
      ]
     },
     "execution_count": 85,
     "metadata": {},
     "output_type": "execute_result"
    }
   ],
   "source": [
    "# Question 18\n",
    "\n",
    "df1.sort_values(by= ['Name', 'address'], inplace = True)\n",
    "df1"
   ]
  },
  {
   "cell_type": "code",
   "execution_count": 87,
   "id": "aacffe74",
   "metadata": {},
   "outputs": [
    {
     "name": "stdout",
     "output_type": "stream",
     "text": [
      "cows_and_goats.csv\n"
     ]
    }
   ],
   "source": [
    "# Quetion 19\n",
    "\n",
    "df = pd.DataFrame({'Cows': [12, 20], 'Goats': [22, 19]}, index=['Year 1', 'Year 2'])\n",
    "fileName = \"cows_and_goats.csv\"\n",
    "df.to_csv(fileName, index=False)\n",
    "print(fileName)"
   ]
  },
  {
   "cell_type": "code",
   "execution_count": 100,
   "id": "919465e7",
   "metadata": {},
   "outputs": [
    {
     "name": "stdout",
     "output_type": "stream",
     "text": [
      "  Vegetable   Color\n",
      "0  Broccoli   Green\n",
      "1    Carrot  Orange\n",
      "2     Onion     Red\n",
      " Unnamed: 0 Vegetable  Color\n",
      "          0  Broccoli  Green\n",
      "          1    Carrot Orange\n",
      "          2     Onion  White\n"
     ]
    }
   ],
   "source": [
    "# Question 20\n",
    "\n",
    "dfv = pd.DataFrame([[\"Broccoli\", \"Green\"], [\"Carrot\", \"Orange\"], [\"Onion\", \"Red\"]],\n",
    "                           columns= ['Vegetable', 'Color'])\n",
    "\n",
    "dfv.to_csv('data_on_vegetables.csv')\n",
    "print(dfv)\n",
    "\n",
    "dfv = pd.read_csv(r\"C:\\Users\\Bcbra\\Code\\SavvyCoders\\Homework\\data_on_vegetables.csv\")\n",
    "dfv.loc[2, \"Color\"] = \"White\"\n",
    "updated_veggie = \"update_data_on_vegetable.csv\"\n",
    "print(dfv.to_string(index= False))\n"
   ]
  }
 ],
 "metadata": {
  "kernelspec": {
   "display_name": "Python 3",
   "language": "python",
   "name": "python3"
  },
  "language_info": {
   "codemirror_mode": {
    "name": "ipython",
    "version": 3
   },
   "file_extension": ".py",
   "mimetype": "text/x-python",
   "name": "python",
   "nbconvert_exporter": "python",
   "pygments_lexer": "ipython3",
   "version": "3.13.3"
  }
 },
 "nbformat": 4,
 "nbformat_minor": 5
}

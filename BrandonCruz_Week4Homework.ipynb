{
 "cells": [
  {
   "cell_type": "markdown",
   "id": "f6f2eef2",
   "metadata": {},
   "source": [
    "1. To use a module, one needs to: `import` `[module name]`. \n",
    "1. `random` is an exmaple of a Python module.\n",
    "```python\n",
    "'import' random\n",
    "lucky_number = random.randint(1,20)\n",
    "print('Your lucky number is:', lucky_number)\n",
    "```\n",
    "3. Identifying errors is one of the major benefits of using Excption handling. \n",
    "4. The 4 components used for Excpetion Handling are: \n",
    "- `try`\n",
    "- `except`\n",
    "- `else`\n",
    "- `finally`\n",
    "5. Python lists are just like NumPy arrays. \n",
    "6. One of the main bennefits of using NumPy arrays is that they utulize less memory. \n",
    "7. Numpy arrays can only have ONE data type. \n",
    "8. \"Searching, sorting & counting,\" along side with \"copying & viewing arrays\" are 2 of the 10 uses of NumPy. \n",
    "9. `Pandas` is one of the libraries we use with NumPy. \n",
    "10. In Numpy, the shape of an arrays shows the number of elements that there are. \n",
    "11. A tensor is an array with 3 dimentions or more. \n",
    "12. One reason its better to use NumPy for Data Analysis than Python Lists is that it's much more convenient to use use since it only uses one data type, takes less memory, and is much faster. \n",
    "13.  When creating \"emppty\" arrays, the elements come from the memory. "
   ]
  },
  {
   "cell_type": "code",
   "execution_count": 48,
   "id": "19aa8b25",
   "metadata": {},
   "outputs": [
    {
     "name": "stdout",
     "output_type": "stream",
     "text": [
      "Renting a car is more affordable\n"
     ]
    }
   ],
   "source": [
    "# Question 1 and 2 \n",
    "age = 25\n",
    "\n",
    "if age >= 25:\n",
    "    print(\"Renting a car is more affordable\")\n",
    "elif 18 <= age < 25:\n",
    "    print(\"Renting a car is expensive\")\n",
    "else:\n",
    "    print(\"You cannot legally rent a car.\")"
   ]
  },
  {
   "cell_type": "code",
   "execution_count": 61,
   "id": "363d8581",
   "metadata": {},
   "outputs": [
    {
     "name": "stdout",
     "output_type": "stream",
     "text": [
      "43\n",
      "euioouoeeao"
     ]
    }
   ],
   "source": [
    "# Question 3\n",
    "\n",
    "variable = \"The quick brown fox jumps over the lazy dog\"\n",
    "count = 0\n",
    "vowels = \"aeiouAEIOU\"\n",
    "\n",
    "for character in variable:\n",
    "    count +=1\n",
    "print(count)\n",
    "\n",
    "for char in variable:\n",
    "    if char in vowels:\n",
    "     print(char, end='')"
   ]
  },
  {
   "cell_type": "code",
   "execution_count": null,
   "id": "95081f88",
   "metadata": {},
   "outputs": [],
   "source": [
    "# Question 4\n",
    "\n",
    "couture = [\"trousers\", \"blouse\", \"bandana\", \"cumber band\", \"blazer\", \"vest\", \"french beret\", \"scarf\", \"stole\"]\n",
    "panettone = {\"cerise\", \"fuchsia\", \"aqua\", \"maple\", \"auburn\", \"burnt sienna\", \"gunmetal blue\", \"Dark Sapphire\"}\n",
    "\n",
    "for x in couture:\n",
    "    for y in panettone: \n",
    "        print(x,y)"
   ]
  },
  {
   "cell_type": "code",
   "execution_count": 12,
   "id": "6f1006e1",
   "metadata": {},
   "outputs": [
    {
     "name": "stdout",
     "output_type": "stream",
     "text": [
      "total sum: 5050\n"
     ]
    }
   ],
   "source": [
    "# Question 5\n",
    "\n",
    "numbers = list(range(1,101))\n",
    "total_sum = 0\n",
    "index = 0\n",
    "\n",
    "while index < len(numbers):\n",
    "    total_sum += numbers[index]\n",
    "    index += 1\n",
    "print(f'total sum: {total_sum}')"
   ]
  },
  {
   "cell_type": "code",
   "execution_count": null,
   "id": "56c82d7f",
   "metadata": {},
   "outputs": [
    {
     "name": "stdout",
     "output_type": "stream",
     "text": [
      "banana\n",
      "['kiwi', 'banana', 'cherry']\n",
      "['kiwi', 'banana', 'cherry', 'orange']\n"
     ]
    }
   ],
   "source": [
    "# Question 6 - 8\n",
    "\n",
    "fruit_list = [\"apple\", \"banana\", \"cherry\"]\n",
    "print(fruit_list[1])\n",
    "\n",
    "fruit_list[0] = \"kiwi\"\n",
    "print(fruit_list)\n",
    "\n",
    "fruit_list.append(\"orange\")\n",
    "print(fruit_list)"
   ]
  },
  {
   "cell_type": "code",
   "execution_count": null,
   "id": "25e6742c",
   "metadata": {},
   "outputs": [
    {
     "name": "stdout",
     "output_type": "stream",
     "text": [
      "['apple', 'lemon', 'banana', 'cherry']\n"
     ]
    }
   ],
   "source": [
    "# Question 9\n",
    "\n",
    "fruit_list2 = [\"apple\", \"banana\", \"cherry\"]\n",
    "\n",
    "fruit_list2.insert(1, \"lemon\")\n",
    "print(fruit_list2)"
   ]
  },
  {
   "cell_type": "code",
   "execution_count": 25,
   "id": "ec3cec57",
   "metadata": {},
   "outputs": [
    {
     "name": "stdout",
     "output_type": "stream",
     "text": [
      "['apple', 'cherry']\n"
     ]
    }
   ],
   "source": [
    "# Question 10\n",
    "\n",
    "fruit_list3 = [\"apple\", \"banana\", \"cherry\"]\n",
    "fruit_list3.remove(\"banana\")\n",
    "print(fruit_list3)"
   ]
  },
  {
   "cell_type": "code",
   "execution_count": null,
   "id": "e35f60db",
   "metadata": {},
   "outputs": [
    {
     "name": "stdout",
     "output_type": "stream",
     "text": [
      "melon\n",
      "kiwi\n",
      "['cherry', 'orange', 'kiwi']\n",
      "7\n",
      "['orange', 'melon', 'mango', 'kiwi', 'cherry', 'banana', 'apple']\n"
     ]
    }
   ],
   "source": [
    "# Question 11 - 14\n",
    "\n",
    "fruit_list4 = [\"apple\", \"banana\", \"cherry\", \"orange\", \"kiwi\", \"melon\", \"mango\"]\n",
    "number_of_items = len(fruit_list4)\n",
    "\n",
    "print(fruit_list4[-2]) # 2nd to last\n",
    "print(fruit_list4[-3]) # 3rd to last\n",
    "\n",
    "print(fruit_list4[2:5])\n",
    "\n",
    "print(number_of_items)\n",
    "\n",
    "fruit_list4.sort(reverse= True)\n",
    "print(fruit_list4)"
   ]
  },
  {
   "cell_type": "code",
   "execution_count": 15,
   "id": "d89e6f10",
   "metadata": {},
   "outputs": [],
   "source": [
    "import datetime as dt "
   ]
  },
  {
   "cell_type": "code",
   "execution_count": 16,
   "id": "c9a4f039",
   "metadata": {},
   "outputs": [
    {
     "name": "stdout",
     "output_type": "stream",
     "text": [
      "June\n"
     ]
    }
   ],
   "source": [
    "# Question 15\n",
    "\n",
    "right_now = dt.datetime.now()\n",
    "print(right_now.strftime(\"%B\"))"
   ]
  },
  {
   "cell_type": "code",
   "execution_count": 21,
   "id": "955274df",
   "metadata": {},
   "outputs": [
    {
     "name": "stdout",
     "output_type": "stream",
     "text": [
      "Hi Brandon! Happy Monday!\n",
      "Hi Cruz! Happy Sunday!\n"
     ]
    }
   ],
   "source": [
    "# Questio 16\n",
    "\n",
    "def simple_function(first_name, day_name = \"Sunday\"):\n",
    "    print(f\"Hi {first_name}! Happy {day_name}!\")\n",
    "\n",
    "simple_function(\"Brandon\", \"Monday\")\n",
    "\n",
    "simple_function(\"Cruz\")"
   ]
  },
  {
   "cell_type": "code",
   "execution_count": 26,
   "id": "8b6a0ead",
   "metadata": {},
   "outputs": [
    {
     "name": "stdout",
     "output_type": "stream",
     "text": [
      "True\n",
      "Nothing went wrong, logic makes sense\n",
      "Homework Done\n"
     ]
    }
   ],
   "source": [
    "# Question 17\n",
    "\n",
    "try: \n",
    "    ex_handling = 5 == 5\n",
    "    print(ex_handling)\n",
    "except SyntaxError: \n",
    "    print(\"Something went wrong\")\n",
    "else: \n",
    "    print(\"Nothing went wrong, logic makes sense\")\n",
    "finally: \n",
    "    print(\"Homework Done\")\n"
   ]
  }
 ],
 "metadata": {
  "kernelspec": {
   "display_name": "Python 3",
   "language": "python",
   "name": "python3"
  },
  "language_info": {
   "codemirror_mode": {
    "name": "ipython",
    "version": 3
   },
   "file_extension": ".py",
   "mimetype": "text/x-python",
   "name": "python",
   "nbconvert_exporter": "python",
   "pygments_lexer": "ipython3",
   "version": "3.13.3"
  }
 },
 "nbformat": 4,
 "nbformat_minor": 5
}

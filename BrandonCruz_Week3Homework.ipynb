{
 "cells": [
  {
   "cell_type": "markdown",
   "id": "a1c8213a",
   "metadata": {},
   "source": [
    "# 1.  What is an algorithm?\n",
    "### An algorithm is a series of steps that solve a problem at hand.\n",
    "# 2. Variable names may not start with certain characters - name two. \n",
    "### They may not strat with a number and cannot start with any special characters.\n",
    "# 3. What is a Semantic error?\n",
    "### A semantic errors are when the code is correct bt it just doesn't make any sense. \n",
    "# 4. What is the #1 rule of coding/ debugging?\n",
    "### The #1 rule of coding is: \"complexity is the enemy of efficiency!\"\n",
    "# 5. List 5 Python reserved words. \n",
    "- and\n",
    "- none\n",
    "- true\n",
    "- false\n",
    "- else"
   ]
  },
  {
   "cell_type": "code",
   "execution_count": 1,
   "id": "2eb45670",
   "metadata": {},
   "outputs": [
    {
     "name": "stdout",
     "output_type": "stream",
     "text": [
      "My name is Brandon Cruz. \n",
      "My favorite food is Pizza.\n",
      "My dream job would be an aircrft pilot\n"
     ]
    }
   ],
   "source": [
    "# Question 6\n",
    "about_myself = \"\"\"My name is Brandon Cruz. \n",
    "My favorite food is Pizza.\n",
    "My dream job would be an aircrft pilot\"\"\"\n",
    "\n",
    "print(about_myself)"
   ]
  },
  {
   "cell_type": "code",
   "execution_count": 7,
   "id": "32f7ce0a",
   "metadata": {},
   "outputs": [
    {
     "name": "stdout",
     "output_type": "stream",
     "text": [
      "17\n",
      "o\n"
     ]
    }
   ],
   "source": [
    "# Question 7\n",
    "\n",
    "str_type = str(\"Automobile brands\")\n",
    "int_type = int(49)\n",
    "list_type = ['Porche', 'Kia', 'Datsun', 'Ford', 'Chevy']\n",
    "tuple_type = ('1999', '2000', '2001', '2002', '2003')\n",
    "range_type = range(5)\n",
    "\n",
    "print(len(str_type))\n",
    "print(str_type[3])\n"
   ]
  },
  {
   "cell_type": "code",
   "execution_count": 15,
   "id": "a9560945",
   "metadata": {},
   "outputs": [
    {
     "name": "stdout",
     "output_type": "stream",
     "text": [
      "ing Data Analytics\n",
      "Learning Data Analytics and Python is Great!\n",
      "The string cointains the word\n"
     ]
    }
   ],
   "source": [
    "# Question 8\n",
    "\n",
    "savvy = \"Learning Data Analytics and Python is Awsome!\"\n",
    "print(savvy[5:23])\n",
    "\n",
    "savvy = str(\"Learning Data Analytics and Python is Awsome!\")\n",
    "print(savvy.replace(\"Awsome\", \"Great\"))\n",
    "\n",
    "if \"Python\":\n",
    "    print(\"The string cointains the word\")"
   ]
  },
  {
   "cell_type": "code",
   "execution_count": 24,
   "id": "b0f73d9a",
   "metadata": {},
   "outputs": [
    {
     "name": "stdout",
     "output_type": "stream",
     "text": [
      "Hi my name is Brandon Cruz.I am 5.9 tall and 23 years old today.\n",
      "<class 'float'>\n"
     ]
    }
   ],
   "source": [
    "# Question 9 \n",
    "\n",
    "name, age, length = 'Brandon Cruz', 23, 5.9\n",
    "age_float = float(age)\n",
    "\n",
    "miniBio = (\n",
    "    f\"Hi my name is {name}.\"\n",
    "    f\"I am {length} tall and {age} years old today.\"\n",
    ")\n",
    "print(miniBio)\n",
    "\n",
    "# Test to see if it's a float\n",
    "print(type(age_float))"
   ]
  },
  {
   "cell_type": "code",
   "execution_count": 52,
   "id": "26bed306",
   "metadata": {},
   "outputs": [
    {
     "name": "stdout",
     "output_type": "stream",
     "text": [
      "['Buick', 2020, 'Kia', 2015, 'Ford', 2024]\n",
      "['Buick', 2020, 'Kia', 2015, 'Ford', 2024, 'Toyota', 2016]\n",
      "8\n",
      "['Kia', 2015, 'Ford', 2024]\n",
      "['Buick', 2020, 'Kia', 2015, 'Ford', 2024, 'Toyota', 2016, 'Kia', 2015, 'Ford', 2024]\n",
      "[2025, 2008, 2005, 1999, 1970]\n",
      "[2025, 2008, 2005, 1999, 1970, 'Kia', 2015, 'Ford', 2024]\n"
     ]
    }
   ],
   "source": [
    "# Quesion 10\n",
    "\n",
    "firstList = ['Buick', 2020, 'Kia', 2018, 'Ford', 2024]\n",
    "firstList[3] = 2015\n",
    "print(firstList)\n",
    "\n",
    "firstList.append('Toyota')\n",
    "firstList.append(2016)\n",
    "print(firstList)\n",
    "\n",
    "ListLength = len(firstList)\n",
    "print(ListLength)\n",
    "\n",
    "secondList = firstList[2:6]\n",
    "print(secondList)\n",
    "\n",
    "firstList.extend(secondList)\n",
    "print(firstList)\n",
    "\n",
    "simList = [1999, 2025, 1970, 2005, 2008]\n",
    "simList.sort(reverse=True)\n",
    "print(simList)\n",
    "\n",
    "import copy\n",
    "thirdList = copy.deepcopy(simList)\n",
    "fourthList = thirdList + secondList\n",
    "print(fourthList)"
   ]
  },
  {
   "cell_type": "code",
   "execution_count": 83,
   "id": "e7b13f12",
   "metadata": {},
   "outputs": [
    {
     "name": "stdout",
     "output_type": "stream",
     "text": [
      "1973\n",
      "['brand', 'year', 'Liter engine', 'is_new', 'colors', 'favorite color', 'models']\n",
      "['Brandon Cruz', 1973, 2.4, False, ['oragne', 'green'], 'blue', ('280z', '240z')]\n",
      "{'brand': 'Brandon Cruz', 'year': 1973, 'Liter engine': 2.4, 'colors': ['oragne', 'green'], 'favorite color': 'blue', 'models': ('280z', '240z')}\n",
      "{}\n"
     ]
    }
   ],
   "source": [
    "car_dict = {\n",
    "    'brand': 'Datsun',\n",
    "    'year': 1973,\n",
    "    'Liter engine': 2.4,\n",
    "    'is_new': False, \n",
    "    'colors': ['oragne', 'green']\n",
    "}\n",
    "print(car_dict['year'])\n",
    "\n",
    "car_dict['brand'] = 'Brandon Cruz'\n",
    "car_dict['favorite color'] = 'blue'\n",
    "car_dict['models'] = ('280z', '240z')\n",
    "print(list(car_dict.keys()))\n",
    "print(list(car_dict.values()))\n",
    "\n",
    "copy_dict = car_dict.copy()\n",
    "copy_dict.pop('is_new')\n",
    "print(copy_dict)\n",
    "\n",
    "copy_dict.clear()\n",
    "print(copy_dict)"
   ]
  }
 ],
 "metadata": {
  "kernelspec": {
   "display_name": "Python 3",
   "language": "python",
   "name": "python3"
  },
  "language_info": {
   "codemirror_mode": {
    "name": "ipython",
    "version": 3
   },
   "file_extension": ".py",
   "mimetype": "text/x-python",
   "name": "python",
   "nbconvert_exporter": "python",
   "pygments_lexer": "ipython3",
   "version": "3.13.3"
  }
 },
 "nbformat": 4,
 "nbformat_minor": 5
}
